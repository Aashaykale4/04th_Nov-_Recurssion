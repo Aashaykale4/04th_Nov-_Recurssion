{
 "cells": [
  {
   "cell_type": "code",
   "execution_count": 1,
   "metadata": {},
   "outputs": [],
   "source": [
    "# Q.1 Can you explain the logic and working of the Tower of Hanoi algorithm by writing a Python program? \n",
    "# How does the recursion work, and how are the movements of disks between rods accomplished?\n",
    "\n",
    "#Anser=> In the problem of Tower of hanoi we have to find number of steps to transfer all disks from starting to destination position.\n",
    "#Constraints:1) Small Disk should be at the top of the big disk.\n",
    "#            2)One Disk can be moved at a time.\n",
    "#In hanoi tower algorithm we are given 3 positions start , destination, alternate, we have to juggel the disk and sort them small at top and big at bottom.\n",
    "#The number of steps can be find out using reccurssion ,as in hanoi tower problem we have to calculate repetative steps recurrsion can be used.\n",
    "#The number of steps can be find by this following set of code:\n",
    "# def steps(n,s,d,a):                                 n=no. of disk, s=start,d=destintion,a=alternate\n",
    "#     if n==1:\n",
    "#        return 1                                     if disk=1 ,steps=1\n",
    "#     else:\n",
    "#         return steps(n-1,s,a,d)+1+steps(n-1,a,d,s)  total_steps=[move_from start to alternate]+1+[move_from alternate to destination]"
   ]
  },
  {
   "cell_type": "code",
   "execution_count": 4,
   "metadata": {},
   "outputs": [
    {
     "name": "stdout",
     "output_type": "stream",
     "text": [
      "3\n"
     ]
    }
   ],
   "source": [
    "# Q.2 Given two strings word1 and word2, return the minimum number of operations required to convert word1 \n",
    "# to word2.\n",
    "# Example 1:\n",
    "#  Input: word1 = \"horse\", word2 = \"ros\"\n",
    "#  Output: 3\n",
    "#  Explanation: \n",
    "#  horse -> rorse (replace 'h' with 'r')\n",
    "#  rorse -> rose (remove 'r')\n",
    "#  rose -> ros (remove 'e')\n",
    "# Example 2:\n",
    "#  Input: word1 = \"intention\", word2 = \"execution\"\n",
    "#  Output: 5\n",
    "#  Explanation: \n",
    "#  intention -> inention (remove 't')\n",
    "#  inention -> enention (replace 'i' with 'e')\n",
    "#  enention -> exention (replace 'n' with 'x')\n",
    "#  exention -> exection (replace 'n' with 'c')\n",
    "#  exection -> execution (insert 'u')\n",
    "\n",
    "word1 = \"horse\"\n",
    "word2 = \"ros\"\n",
    "m = len(word1)\n",
    "n = len(word2)\n",
    "\n",
    "def min_no_operation(word1, word2, m, n):\n",
    "    # If first string is empty, return n\n",
    "    if m == 0:\n",
    "        return n\n",
    "    \n",
    "    # If second string is empty, return m\n",
    "    if n == 0:\n",
    "        return m\n",
    "    \n",
    "    # If last characters of strings are the same\n",
    "    if word1[m-1] == word2[n-1]:\n",
    "        return min_no_operation(word1, word2, m-1, n-1)\n",
    "   \n",
    "    return 1 + min(\n",
    "        min_no_operation(word1, word2, m, n-1),    # Insert\n",
    "        min_no_operation(word1, word2, m-1, n),    # Remove\n",
    "        min_no_operation(word1, word2, m-1, n-1)   # Replace\n",
    "    )\n",
    "\n",
    "result = min_no_operation(word1, word2, m, n)\n",
    "print(result)\n"
   ]
  },
  {
   "cell_type": "code",
   "execution_count": 7,
   "metadata": {},
   "outputs": [
    {
     "data": {
      "text/plain": [
       "22"
      ]
     },
     "execution_count": 7,
     "metadata": {},
     "output_type": "execute_result"
    }
   ],
   "source": [
    "# Q. 3 Print the max value of the array [ 13, 1, -3, 22, 5]\n",
    "n=[ 13, 1, -3, 22, 5]\n",
    "def r_max(n,st,en):\n",
    "    #base\n",
    "    if st==en:\n",
    "        return n[st]\n",
    "    else:\n",
    "        #logic\n",
    "        max=r_max(n,st+1,en)\n",
    "        if n[st]> max :\n",
    "            return n[st]\n",
    "        else:\n",
    "            return max\n",
    "    \n",
    "r_max(n,0,4)"
   ]
  },
  {
   "cell_type": "code",
   "execution_count": 3,
   "metadata": {},
   "outputs": [
    {
     "data": {
      "text/plain": [
       "120"
      ]
     },
     "execution_count": 3,
     "metadata": {},
     "output_type": "execute_result"
    }
   ],
   "source": [
    "# Q.4 Find the sum of the values of the array [92, 23, 15, -20, 10].\n",
    "n=[92, 23, 15, -20, 10]\n",
    "def sum_num(n,l):\n",
    "    #base\n",
    "    if l==0:\n",
    "        return 0\n",
    "    else:\n",
    "        #logic\n",
    "        return n[l-1]+sum_num(n,l-1)\n",
    "sum_num(n,len(n))\n",
    "                                               \n",
    "         \n",
    "    "
   ]
  },
  {
   "cell_type": "code",
   "execution_count": 15,
   "metadata": {},
   "outputs": [
    {
     "name": "stdout",
     "output_type": "stream",
     "text": [
      "N\n"
     ]
    }
   ],
   "source": [
    "# Q.5 Given a number n. Print if it is an armstrong number or not.An armstrong number is a number if the sum \n",
    "# of every digit in that number raised to the power of total digits in that number is equal to the number.\n",
    "# Example : 153 = 1^3 + 5^3 + 3^3 = 1 + 125 + 27 = 153 hence 153 is an armstrong number. (Easy)\n",
    "# Input1 : 153\n",
    "# Output1 : Yes\n",
    "# Input 2 : 134\n",
    "# Output2 : N\n",
    "\n",
    "def r_armstrong(n):\n",
    "    t=0\n",
    "\n",
    "    str_n=str(n)\n",
    "    len_n=len(str_n)\n",
    "    \n",
    "    for i in str_n:\n",
    "        t+=int(i)**len_n\n",
    "    return t==n\n",
    "Input=134\n",
    "if r_armstrong(Input) ==True:\n",
    "    print(\"Y\")\n",
    "else:\n",
    "    print(\"N\")\n"
   ]
  },
  {
   "cell_type": "code",
   "execution_count": null,
   "metadata": {},
   "outputs": [],
   "source": []
  },
  {
   "cell_type": "code",
   "execution_count": null,
   "metadata": {},
   "outputs": [],
   "source": []
  }
 ],
 "metadata": {
  "kernelspec": {
   "display_name": "Python 3",
   "language": "python",
   "name": "python3"
  },
  "language_info": {
   "codemirror_mode": {
    "name": "ipython",
    "version": 3
   },
   "file_extension": ".py",
   "mimetype": "text/x-python",
   "name": "python",
   "nbconvert_exporter": "python",
   "pygments_lexer": "ipython3",
   "version": "3.11.5"
  }
 },
 "nbformat": 4,
 "nbformat_minor": 2
}
